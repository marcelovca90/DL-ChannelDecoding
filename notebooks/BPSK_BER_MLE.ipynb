{
 "cells": [
  {
   "cell_type": "code",
   "execution_count": 1,
   "id": "c5d0076e",
   "metadata": {},
   "outputs": [],
   "source": [
    "import numpy as np\n",
    "import matplotlib.pyplot as plt\n",
    "import math\n",
    "%matplotlib inline"
   ]
  },
  {
   "cell_type": "code",
   "execution_count": 2,
   "id": "25bba0ce",
   "metadata": {},
   "outputs": [
    {
     "name": "stdout",
     "output_type": "stream",
     "text": [
      "start = -4\n",
      "stop = 12\n",
      "steps = 34\n",
      "SNR_dB_start_Es = -7.0102999566398125\n",
      "SNR_dB_stop_Es = 8.989700043360187\n",
      "sigma_start = 1.5848931924611136\n",
      "sigma_start = 0.25118864315095807\n",
      "sigmas = [1.58489319 1.5444779  1.50406261 1.46364732 1.42323203 1.38281675\n",
      " 1.34240146 1.30198617 1.26157088 1.22115559 1.1807403  1.14032501\n",
      " 1.09990972 1.05949443 1.01907914 0.97866385 0.93824856 0.89783327\n",
      " 0.85741798 0.81700269 0.77658741 0.73617212 0.69575683 0.65534154\n",
      " 0.61492625 0.57451096 0.53409567 0.49368038 0.45326509 0.4128498\n",
      " 0.37243451 0.33201922 0.29160393 0.25118864]\n",
      "sigmas_db = [-4.         -3.77563398 -3.54531832 -3.30872886 -3.06551421 -2.8152926\n",
      " -2.55764829 -2.2921274  -2.0182331  -1.73542002 -1.44308772 -1.14057299\n",
      " -0.8271408  -0.50197356 -0.16415825  0.18732905  0.55364185  0.93608608\n",
      "  1.33614823  1.75553022  2.19619315  2.66041273  3.15085048  3.67064609\n",
      "  4.22353938  4.81403366  5.44761888  6.13108266  6.87295457  7.68415842\n",
      "  8.57900165  9.57673545 10.70413247 12.        ]\n"
     ]
    }
   ],
   "source": [
    "k = 8                       # number of information bits\n",
    "N = 16                      # code length\n",
    "\n",
    "SNR_dB_start_Eb = -4\n",
    "SNR_dB_stop_Eb  = +12\n",
    "SNR_points = 2*(SNR_dB_stop_Eb-SNR_dB_start_Eb+1)\n",
    "print(f'start = {SNR_dB_start_Eb}\\nstop = {SNR_dB_stop_Eb}\\nsteps = {SNR_points}')\n",
    "\n",
    "SNR_dB_start_Es = SNR_dB_start_Eb + 10*np.log10(k/N)\n",
    "SNR_dB_stop_Es = SNR_dB_stop_Eb + 10*np.log10(k/N)\n",
    "print(f'SNR_dB_start_Es = {SNR_dB_start_Es}')\n",
    "print(f'SNR_dB_stop_Es = {SNR_dB_stop_Es}')\n",
    "\n",
    "sigma_start = np.sqrt(1/(2*10**(SNR_dB_start_Es/10)))\n",
    "sigma_stop = np.sqrt(1/(2*10**(SNR_dB_stop_Es/10)))\n",
    "print(f'sigma_start = {sigma_start}')\n",
    "print(f'sigma_start = {sigma_stop}')\n",
    "\n",
    "sigmas = np.linspace(sigma_start, sigma_stop, SNR_points)\n",
    "sigmas_db = 10*np.log10(1/(2*sigmas**2)) - 10*np.log10(k/N)\n",
    "print(f'sigmas = {sigmas}')\n",
    "print(f'sigmas_db = {sigmas_db}')"
   ]
  },
  {
   "cell_type": "code",
   "execution_count": 3,
   "id": "720f0322",
   "metadata": {},
   "outputs": [],
   "source": [
    "def theoretic_symbol_error_rate(Es_No_dB):\n",
    "    Es_No = 10.0**(Es_No_dB/10.0)\n",
    "    return 0.5*math.erfc(np.sqrt(Es_No))"
   ]
  },
  {
   "cell_type": "code",
   "execution_count": 4,
   "id": "8b267ac4",
   "metadata": {},
   "outputs": [
    {
     "name": "stdout",
     "output_type": "stream",
     "text": [
      "Es_No_dB = -4.000\tBER_t = 1.861e-01\n",
      "Es_No_dB = -3.776\tBER_t = 1.799e-01\n",
      "Es_No_dB = -3.545\tBER_t = 1.735e-01\n",
      "Es_No_dB = -3.309\tBER_t = 1.670e-01\n",
      "Es_No_dB = -3.066\tBER_t = 1.602e-01\n",
      "Es_No_dB = -2.815\tBER_t = 1.532e-01\n",
      "Es_No_dB = -2.558\tBER_t = 1.461e-01\n",
      "Es_No_dB = -2.292\tBER_t = 1.387e-01\n",
      "Es_No_dB = -2.018\tBER_t = 1.311e-01\n",
      "Es_No_dB = -1.735\tBER_t = 1.234e-01\n",
      "Es_No_dB = -1.443\tBER_t = 1.155e-01\n",
      "Es_No_dB = -1.141\tBER_t = 1.075e-01\n",
      "Es_No_dB = -0.827\tBER_t = 9.926e-02\n",
      "Es_No_dB = -0.502\tBER_t = 9.097e-02\n",
      "Es_No_dB = -0.164\tBER_t = 8.261e-02\n",
      "Es_No_dB = 0.187\tBER_t = 7.422e-02\n",
      "Es_No_dB = 0.554\tBER_t = 6.587e-02\n",
      "Es_No_dB = 0.936\tBER_t = 5.761e-02\n",
      "Es_No_dB = 1.336\tBER_t = 4.953e-02\n",
      "Es_No_dB = 1.756\tBER_t = 4.173e-02\n",
      "Es_No_dB = 2.196\tBER_t = 3.430e-02\n",
      "Es_No_dB = 2.660\tBER_t = 2.736e-02\n",
      "Es_No_dB = 3.151\tBER_t = 2.105e-02\n",
      "Es_No_dB = 3.671\tBER_t = 1.546e-02\n",
      "Es_No_dB = 4.224\tBER_t = 1.073e-02\n",
      "Es_No_dB = 4.814\tBER_t = 6.916e-03\n",
      "Es_No_dB = 5.448\tBER_t = 4.050e-03\n",
      "Es_No_dB = 6.131\tBER_t = 2.087e-03\n",
      "Es_No_dB = 6.873\tBER_t = 9.041e-04\n",
      "Es_No_dB = 7.684\tBER_t = 3.068e-04\n",
      "Es_No_dB = 8.579\tBER_t = 7.317e-05\n",
      "Es_No_dB = 9.577\tBER_t = 1.025e-05\n",
      "Es_No_dB = 10.704\tBER_t = 6.180e-07\n",
      "Es_No_dB = 12.000\tBER_t = 9.006e-09\n"
     ]
    }
   ],
   "source": [
    "BER_theoretic_hist = []\n",
    "for Es_No_dB in sigmas_db:\n",
    "    BER_theoretic = theoretic_symbol_error_rate(Es_No_dB)\n",
    "    BER_theoretic_hist.append(BER_theoretic)\n",
    "    print(f'Es_No_dB = {Es_No_dB:.3f}\\tBER_t = {BER_theoretic:.3e}')"
   ]
  },
  {
   "cell_type": "code",
   "execution_count": 5,
   "id": "8ca20154",
   "metadata": {
    "scrolled": true
   },
   "outputs": [
    {
     "data": {
      "image/png": "[encoded data removed]",
      "text/plain": [
       "<Figure size 360x360 with 1 Axes>"
      ]
     },
     "metadata": {
      "needs_background": "light"
     },
     "output_type": "display_data"
    }
   ],
   "source": [
    "plt.rcParams[\"figure.figsize\"] = (5,5)\n",
    "plt.semilogy(sigmas_db, BER_theoretic_hist, label='BER vs Es/No (dB)')\n",
    "plt.grid(True, which=\"both\")\n",
    "plt.xlabel('Es/No (dB)')\n",
    "plt.ylabel('BER')\n",
    "plt.xlim(0, 10)\n",
    "plt.ylim(1e-5, 1e0)\n",
    "plt.title('Theoretical BER of the BPSK modulation (MLE)')\n",
    "plt.show()"
   ]
  },
  {
   "cell_type": "code",
   "execution_count": 6,
   "id": "e0af62c3",
   "metadata": {},
   "outputs": [
    {
     "data": {
      "text/html": [
       "<img src=\"https://www.gaussianwaves.com/gaussianwaves/wp-content/uploads/2020/07/Bit-error-rate-performance-of-BPSK-modulation-over-AWGN-using-Python.png\" width=\"360\" height=\"360\"/>"
      ],
      "text/plain": [
       "<IPython.core.display.Image object>"
      ]
     },
     "execution_count": 6,
     "metadata": {},
     "output_type": "execute_result"
    }
   ],
   "source": [
    "from IPython.display import Image\n",
    "from IPython.core.display import HTML \n",
    "reference_image = 'https://www.gaussianwaves.com/gaussianwaves/wp-content/uploads/2020/07/Bit-error-rate-performance-of-BPSK-modulation-over-AWGN-using-Python.png'\n",
    "Image(url=reference_image, width=360, height=360)"
   ]
  }
 ],
 "metadata": {
  "kernelspec": {
   "display_name": "Python 3",
   "language": "python",
   "name": "python3"
  },
  "language_info": {
   "codemirror_mode": {
    "name": "ipython",
    "version": 3
   },
   "file_extension": ".py",
   "mimetype": "text/x-python",
   "name": "python",
   "nbconvert_exporter": "python",
   "pygments_lexer": "ipython3",
   "version": "3.7.10"
  }
 },
 "nbformat": 4,
 "nbformat_minor": 5
}
